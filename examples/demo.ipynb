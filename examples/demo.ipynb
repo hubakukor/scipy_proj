{
 "cells": [
  {
   "cell_type": "code",
   "id": "initial_id",
   "metadata": {
    "collapsed": true
   },
   "source": [
    "# Install and import the toolbox\n",
    "!pip install git+https://github.com/hubakukor/scipy_proj.git\n",
    "import eeg_toolbox as et\n",
    "\n"
   ],
   "outputs": [],
   "execution_count": null
  },
  {
   "metadata": {},
   "cell_type": "code",
   "outputs": [],
   "execution_count": null,
   "source": [
    "# Download the example data file\n",
    "!wget https://github.com/hubakukor/scipy_proj/raw/master/examples/PN00-1.edf"
   ],
   "id": "7d2e8e0cae6530d5"
  },
  {
   "metadata": {},
   "cell_type": "markdown",
   "source": "Load data from an EDF file.",
   "id": "156509ebeca937c9"
  },
  {
   "metadata": {},
   "cell_type": "code",
   "source": "data, ch_names, sfreq = et.load_edf_data('PN00-1.edf')",
   "id": "1e2118374fe95c72",
   "outputs": [],
   "execution_count": null
  },
  {
   "metadata": {},
   "cell_type": "markdown",
   "source": "Processing functions",
   "id": "e734429573236ef3"
  },
  {
   "metadata": {},
   "cell_type": "code",
   "source": [
    "# Apply notch filter at 50Hz to remove powerline noise\n",
    "data = et.notch_filter(data, fs = sfreq, filter_freq=50)"
   ],
   "id": "29e49698d8cdc446",
   "outputs": [],
   "execution_count": null
  },
  {
   "metadata": {},
   "cell_type": "code",
   "source": [
    "# Resample data to 100Hz\n",
    "et.resample_data(data, sfreq, new_sfreq = 100)"
   ],
   "id": "4ea7a53c483b5a58",
   "outputs": [],
   "execution_count": null
  },
  {
   "metadata": {},
   "cell_type": "code",
   "source": [
    "# Bandpass filter (can be used as high or low pass filter)\n",
    "et.bandpass_filter(data, freq=sfreq, highcut=150, order=5)"
   ],
   "id": "d70ec65c118f9caa",
   "outputs": [],
   "execution_count": null
  },
  {
   "metadata": {},
   "cell_type": "code",
   "source": [
    "# Apply z-score normalization per channel\n",
    "et.zscore_normalization(data)"
   ],
   "id": "a151ed2c162a925",
   "outputs": [],
   "execution_count": null
  },
  {
   "metadata": {},
   "cell_type": "code",
   "source": [
    "# Apply min-max normalization per channel\n",
    "et.minmax_normalization(data)"
   ],
   "id": "bfe4c00201023fd9",
   "outputs": [],
   "execution_count": null
  },
  {
   "metadata": {},
   "cell_type": "code",
   "source": [
    "# Apply mean centering per channel\n",
    "et.mean_centering(data)"
   ],
   "id": "d8d6d5f3b8efb993",
   "outputs": [],
   "execution_count": null
  },
  {
   "metadata": {},
   "cell_type": "markdown",
   "source": "Detect eeg bands",
   "id": "f981e1e22b4cd1cb"
  },
  {
   "metadata": {},
   "cell_type": "code",
   "source": [
    "# Detect graphoelements in the data\n",
    "detected_bands = et.detect_graphoelements(data, sfreq, bands={\n",
    "    \"delta\" : [0, 4],\n",
    "    \"theta\": [4, 8],\n",
    "    \"alpha\": [8, 13],\n",
    "    \"beta\": [13, 30],\n",
    "    \"gamma\": [30, 100]\n",
    "    })\n",
    "\n",
    "# Plotting the results\n",
    "et.plot_graph_segments(data, sfreq, detected_bands, ch_names)"
   ],
   "id": "87b6f86f56d80de1",
   "outputs": [],
   "execution_count": null
  },
  {
   "metadata": {},
   "cell_type": "markdown",
   "source": "Visualization",
   "id": "99ee0e71f11dee41"
  },
  {
   "metadata": {},
   "cell_type": "code",
   "source": "et.plot_eeg_overview(data, ch_names, sfreq)",
   "id": "b82a8cec84086978",
   "outputs": [],
   "execution_count": null
  },
  {
   "metadata": {},
   "cell_type": "markdown",
   "source": "Calculate and visualize the Fourier transform of EEG data",
   "id": "4b62335ebe8b67ad"
  },
  {
   "metadata": {},
   "cell_type": "code",
   "source": [
    "ft_magnitudes, mean_fft = et.data_fourier(data)\n",
    "\n",
    "et.plot_fft_spectrum(mean_fft, sfreq, data.shape[1])"
   ],
   "id": "fec00a86d2aef5f9",
   "outputs": [],
   "execution_count": null
  }
 ],
 "metadata": {
  "kernelspec": {
   "display_name": "Python 3",
   "language": "python",
   "name": "python3"
  },
  "language_info": {
   "codemirror_mode": {
    "name": "ipython",
    "version": 2
   },
   "file_extension": ".py",
   "mimetype": "text/x-python",
   "name": "python",
   "nbconvert_exporter": "python",
   "pygments_lexer": "ipython2",
   "version": "2.7.6"
  }
 },
 "nbformat": 4,
 "nbformat_minor": 5
}
