{
 "cells": [
  {
   "cell_type": "code",
   "id": "initial_id",
   "metadata": {
    "collapsed": true,
    "ExecuteTime": {
     "end_time": "2025-05-08T12:33:38.415386Z",
     "start_time": "2025-05-08T12:33:38.412384Z"
    }
   },
   "source": "import eeg_toolbox as et",
   "outputs": [],
   "execution_count": 27
  },
  {
   "metadata": {},
   "cell_type": "markdown",
   "source": "Load data from an EDF file.",
   "id": "156509ebeca937c9"
  },
  {
   "metadata": {
    "ExecuteTime": {
     "end_time": "2025-05-08T12:39:15.367002Z",
     "start_time": "2025-05-08T12:39:14.623968Z"
    }
   },
   "cell_type": "code",
   "source": "data, ch_names, sfreq = et.load_edf_data('PN00-1.edf')",
   "id": "1e2118374fe95c72",
   "outputs": [
    {
     "name": "stderr",
     "output_type": "stream",
     "text": [
      "C:\\Users\\hubak\\PycharmProjects\\scipy_proj_v2\\eeg_toolbox\\load.py:16: RuntimeWarning: Channels contain different highpass filters. Highest filter setting will be stored.\n",
      "  raw = mne.io.read_raw_edf(filepath, preload=True, verbose=False)\n",
      "C:\\Users\\hubak\\PycharmProjects\\scipy_proj_v2\\eeg_toolbox\\load.py:16: RuntimeWarning: Channels contain different lowpass filters. Lowest filter setting will be stored.\n",
      "  raw = mne.io.read_raw_edf(filepath, preload=True, verbose=False)\n",
      "C:\\Users\\hubak\\PycharmProjects\\scipy_proj_v2\\eeg_toolbox\\load.py:16: RuntimeWarning: Highpass cutoff frequency 15.91549 is greater than lowpass cutoff frequency 15.0, setting values to 0 and Nyquist.\n",
      "  raw = mne.io.read_raw_edf(filepath, preload=True, verbose=False)\n"
     ]
    }
   ],
   "execution_count": 38
  },
  {
   "metadata": {},
   "cell_type": "markdown",
   "source": "Processing functions",
   "id": "e734429573236ef3"
  },
  {
   "metadata": {
    "ExecuteTime": {
     "end_time": "2025-05-08T12:37:33.598529Z",
     "start_time": "2025-05-08T12:37:32.737999Z"
    }
   },
   "cell_type": "code",
   "source": [
    "# Apply notch filter at 50Hz to remove powerline noise\n",
    "data = et.notch_filter(data, fs = sfreq, filter_freq=50)"
   ],
   "id": "29e49698d8cdc446",
   "outputs": [],
   "execution_count": 32
  },
  {
   "metadata": {
    "ExecuteTime": {
     "end_time": "2025-05-08T12:37:35.446534Z",
     "start_time": "2025-05-08T12:37:34.482817Z"
    }
   },
   "cell_type": "code",
   "source": [
    "# Resample data to 100Hz\n",
    "et.resample_data(data, sfreq, new_sfreq = 100)"
   ],
   "id": "4ea7a53c483b5a58",
   "outputs": [
    {
     "data": {
      "text/plain": [
       "array([[ 1.11476115e-05, -8.75288353e-06,  9.39969030e-07, ...,\n",
       "         1.11445033e-05, -8.11582889e-06, -5.78545338e-06],\n",
       "       [-3.48846470e-06, -3.32062200e-06, -5.08078746e-07, ...,\n",
       "         2.09018459e-06,  4.99985200e-06,  1.32805302e-05],\n",
       "       [ 4.29916441e-06,  5.07226692e-06,  6.95184117e-06, ...,\n",
       "         1.15736861e-05,  1.07237902e-05,  8.80057010e-06],\n",
       "       ...,\n",
       "       [ 5.37246155e-06, -4.24400330e-05, -3.21821897e-06, ...,\n",
       "         3.81827500e-05,  2.64504198e-05,  4.35784822e-05],\n",
       "       [-1.66257327e-04, -1.84299143e-04, -1.63170450e-04, ...,\n",
       "        -1.22684931e-04, -1.30714347e-04, -1.12046274e-04],\n",
       "       [ 4.00000000e-05,  4.00000000e-05,  4.00000000e-05, ...,\n",
       "         4.00000000e-05,  4.00000000e-05,  4.00000000e-05]],\n",
       "      shape=(35, 262500))"
      ]
     },
     "execution_count": 33,
     "metadata": {},
     "output_type": "execute_result"
    }
   ],
   "execution_count": 33
  },
  {
   "metadata": {
    "ExecuteTime": {
     "end_time": "2025-05-08T12:39:12.864699Z",
     "start_time": "2025-05-08T12:39:11.770978Z"
    }
   },
   "cell_type": "code",
   "source": [
    "# Bandpass filter (can be used as high or low pass filter)\n",
    "et.bandpass_filter(data, freq=sfreq, highcut=150, order=5)"
   ],
   "id": "d70ec65c118f9caa",
   "outputs": [
    {
     "data": {
      "text/plain": [
       "array([[ 1.87358525e-06, -8.51289171e-07, -2.15811652e-06, ...,\n",
       "         1.58825303e-05,  1.38709711e-05,  8.87452537e-06],\n",
       "       [-1.00001361e-05, -1.30275616e-05, -1.20152517e-05, ...,\n",
       "         1.21555820e-05,  1.00782230e-05,  8.99699202e-06],\n",
       "       [-8.75308253e-07,  8.78608722e-08,  2.28652164e-06, ...,\n",
       "         1.11832756e-05,  1.04652206e-05,  7.87483074e-06],\n",
       "       ...,\n",
       "       [-1.58768722e-05, -1.70701794e-05, -2.44977730e-05, ...,\n",
       "         4.24648007e-05,  4.57174523e-05,  4.92578275e-05],\n",
       "       [-1.87874598e-04, -2.08121531e-04, -2.12305069e-04, ...,\n",
       "        -1.17979747e-04, -1.16321117e-04, -1.09260095e-04],\n",
       "       [ 4.00000000e-05,  4.00000000e-05,  4.00000000e-05, ...,\n",
       "         4.00000000e-05,  4.00000000e-05,  4.00000000e-05]],\n",
       "      shape=(35, 1344000))"
      ]
     },
     "execution_count": 37,
     "metadata": {},
     "output_type": "execute_result"
    }
   ],
   "execution_count": 37
  },
  {
   "metadata": {
    "ExecuteTime": {
     "end_time": "2025-05-08T12:43:01.593153Z",
     "start_time": "2025-05-08T12:43:00.915358Z"
    }
   },
   "cell_type": "code",
   "source": [
    "# Apply z-score normalization per channel\n",
    "et.zscore_normalization(data)"
   ],
   "id": "a151ed2c162a925",
   "outputs": [
    {
     "data": {
      "text/plain": [
       "array([[-0.08603595, -0.15213783, -0.23660134, ...,  0.3362816 ,\n",
       "         0.24814577,  0.11961434],\n",
       "       [-0.57896591, -0.67345622, -0.67345622, ...,  0.28089599,\n",
       "         0.14860954,  0.13916051],\n",
       "       [-0.1379256 , -0.09058666, -0.04755125, ...,  0.30103553,\n",
       "         0.22787534,  0.16332223],\n",
       "       ...,\n",
       "       [-0.12769314, -0.13901078, -0.17828968, ...,  0.17921486,\n",
       "         0.20451313,  0.2191595 ],\n",
       "       [-0.50123058, -0.55507493, -0.56049123, ..., -0.31771372,\n",
       "        -0.32408583, -0.30082762],\n",
       "       [-1.        , -1.        , -1.        , ..., -1.        ,\n",
       "        -1.        , -1.        ]], shape=(35, 1344000))"
      ]
     },
     "execution_count": 40,
     "metadata": {},
     "output_type": "execute_result"
    }
   ],
   "execution_count": 40
  },
  {
   "metadata": {
    "ExecuteTime": {
     "end_time": "2025-05-08T12:44:58.457506Z",
     "start_time": "2025-05-08T12:44:58.121345Z"
    }
   },
   "cell_type": "code",
   "source": [
    "# Apply min-max normalization per channel\n",
    "et.minmax_normalization(data)"
   ],
   "id": "bfe4c00201023fd9",
   "outputs": [
    {
     "data": {
      "text/plain": [
       "array([[0.47295838, 0.47146299, 0.46955221, ..., 0.48251225, 0.4805184 ,\n",
       "        0.4776107 ],\n",
       "       [0.47930371, 0.47727963, 0.47727963, ..., 0.4977229 , 0.49488918,\n",
       "        0.49468677],\n",
       "       [0.6532432 , 0.65482526, 0.65626348, ..., 0.66791313, 0.66546814,\n",
       "        0.6633108 ],\n",
       "       ...,\n",
       "       [0.49828215, 0.49802257, 0.49712165, ..., 0.5053215 , 0.50590175,\n",
       "        0.50623769],\n",
       "       [0.51541429, 0.51262818, 0.51234792, ..., 0.52491015, 0.52458043,\n",
       "        0.5257839 ],\n",
       "       [       nan,        nan,        nan, ...,        nan,        nan,\n",
       "               nan]], shape=(35, 1344000))"
      ]
     },
     "execution_count": 42,
     "metadata": {},
     "output_type": "execute_result"
    }
   ],
   "execution_count": 42
  },
  {
   "metadata": {
    "ExecuteTime": {
     "end_time": "2025-05-08T12:45:00.227800Z",
     "start_time": "2025-05-08T12:45:00.042696Z"
    }
   },
   "cell_type": "code",
   "source": [
    "# Apply mean centering per channel\n",
    "et.mean_centering(data)"
   ],
   "id": "d8d6d5f3b8efb993",
   "outputs": [
    {
     "data": {
      "text/plain": [
       "array([[-2.92852334e-06, -5.17852334e-06, -8.05352334e-06, ...,\n",
       "         1.14464767e-05,  8.44647666e-06,  4.07147666e-06],\n",
       "       [-1.53181278e-05, -1.78181278e-05, -1.78181278e-05, ...,\n",
       "         7.43187221e-06,  3.93187221e-06,  3.68187221e-06],\n",
       "       [-4.00616667e-06, -2.63116667e-06, -1.38116667e-06, ...,\n",
       "         8.74383333e-06,  6.61883333e-06,  4.74383333e-06],\n",
       "       ...,\n",
       "       [-2.39756443e-05, -2.61006443e-05, -3.34756443e-05, ...,\n",
       "         3.36493557e-05,  3.83993557e-05,  4.11493557e-05],\n",
       "       [-1.96650065e-04, -2.17775065e-04, -2.19900065e-04, ...,\n",
       "        -1.24650065e-04, -1.27150065e-04, -1.18025065e-04],\n",
       "       [-9.48676901e-20, -9.48676901e-20, -9.48676901e-20, ...,\n",
       "        -9.48676901e-20, -9.48676901e-20, -9.48676901e-20]],\n",
       "      shape=(35, 1344000))"
      ]
     },
     "execution_count": 43,
     "metadata": {},
     "output_type": "execute_result"
    }
   ],
   "execution_count": 43
  }
 ],
 "metadata": {
  "kernelspec": {
   "display_name": "Python 3",
   "language": "python",
   "name": "python3"
  },
  "language_info": {
   "codemirror_mode": {
    "name": "ipython",
    "version": 2
   },
   "file_extension": ".py",
   "mimetype": "text/x-python",
   "name": "python",
   "nbconvert_exporter": "python",
   "pygments_lexer": "ipython2",
   "version": "2.7.6"
  }
 },
 "nbformat": 4,
 "nbformat_minor": 5
}
